{
 "cells": [
  {
   "cell_type": "code",
   "execution_count": 1,
   "metadata": {},
   "outputs": [],
   "source": [
    "from networkx import generators\n",
    "import random"
   ]
  },
  {
   "cell_type": "code",
   "execution_count": 2,
   "metadata": {},
   "outputs": [],
   "source": [
    "### Generates a random graph using the NetworkX library. Remove seed value if you want it randomized completely\n",
    "\n",
    "num_nodes = 100\n",
    "num_vertices = 200\n",
    "\n",
    "graph = generators.gnm_random_graph(num_nodes, num_vertices, seed = 500)"
   ]
  },
  {
   "cell_type": "code",
   "execution_count": 3,
   "metadata": {
    "scrolled": true
   },
   "outputs": [],
   "source": [
    "output_graph_name = \"random_graph.txt\"\n",
    "output_nodes_name = \"random_nodes.txt\"\n",
    "num_random_nodes = 5\n",
    "\n",
    "### Store the results and a random set of nodes from that graph to two text files. Input the names above.\n",
    "with open(output_graph_name, \"w\") as f:\n",
    "    f.writelines(f\"# Directed graph (each unordered pair of nodes is saved once): {output_graph_name}\\n\")\n",
    "    f.writelines(\"# Random graph network\\n\")\n",
    "    f.writelines(f\"# Nodes: {num_nodes} Edges: {num_vertices}\\n\")\n",
    "    f.writelines(\"# FromNodeId\\tToNodeId\\n\")\n",
    "    \n",
    "    for node in graph:\n",
    "        for neighbour in graph.neighbors(node):\n",
    "            line = f\"{node}\\t{neighbour}\\n\"\n",
    "            f.writelines(line)\n",
    "            \n",
    "    with open(output_nodes_name, \"w\") as g:\n",
    "        g.write(f\"#{num_random_nodes}\\n\")\n",
    "        nodes = random.sample(list(graph), num_random_nodes)\n",
    "        for node in nodes:\n",
    "            g.write(f\"{node}\\n\")"
   ]
  },
  {
   "cell_type": "code",
   "execution_count": 4,
   "metadata": {},
   "outputs": [],
   "source": [
    "## Can convert to .py for a runnable script. Use this func in that case.\n",
    "\n",
    "def random_graph_generator(num_nodes, num_vertices, file_name, seed = None):\n",
    "    if seed:\n",
    "        graph = generators.gnm_random_graph(num_nodes, num_vertices, seed)\n",
    "    else:\n",
    "        graph = generators.gnm_random_graph(num_nodes, num_vertices)\n",
    "    \n",
    "    with open(file_name, \"w\") as f:\n",
    "        f.writelines(f\"# Directed graph (each unordered pair of nodes is saved once): {file_name}\\n\")\n",
    "        f.writelines(\"# Random graph network\\n\")\n",
    "        f.writelines(f\"# Nodes: {num_nodes} Edges: {num_vertices}\\n\")\n",
    "        f.writelines(\"# FromNodeId\\tToNodeId\\n\")\n",
    "        \n",
    "        for node in graph:\n",
    "            for neighbour in graph.neighbors(node):\n",
    "                line = f\"{node}\\t{neighbour}\\n\"\n",
    "                f.writelines(line)"
   ]
  }
 ],
 "metadata": {
  "kernelspec": {
   "display_name": "Python 3",
   "language": "python",
   "name": "python3"
  },
  "language_info": {
   "codemirror_mode": {
    "name": "ipython",
    "version": 3
   },
   "file_extension": ".py",
   "mimetype": "text/x-python",
   "name": "python",
   "nbconvert_exporter": "python",
   "pygments_lexer": "ipython3",
   "version": "3.7.6"
  }
 },
 "nbformat": 4,
 "nbformat_minor": 4
}
