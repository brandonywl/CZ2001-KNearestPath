{
 "cells": [
  {
   "cell_type": "code",
   "execution_count": 1,
   "metadata": {},
   "outputs": [],
   "source": [
    "import random\n",
    "import time"
   ]
  },
  {
   "cell_type": "markdown",
   "metadata": {},
   "source": [
    "### Utility functions for graph import\n",
    "Place graph in the same directory as this ipynb for access.\n",
    "Simply call the function withe the file name and a adjacency list graph representation will be returned. \n",
    "\n",
    "Input files for graphs should follow the structure to indicate an edge.\n",
    "<br><br>\n",
    "toNode&nbsp;&nbsp;&nbsp;&nbsp;&nbsp;&nbsp;&nbsp;&nbsp;fromNode\n",
    "<br>\n",
    "nodeNum&nbsp;&nbsp;&nbsp;&nbsp;nodeNum"
   ]
  },
  {
   "cell_type": "code",
   "execution_count": 2,
   "metadata": {},
   "outputs": [],
   "source": [
    "# Parses information from the roadNet-CA.txt format. Random graph generated from GraphGenerator.ipynb also follows this format.\n",
    "# First four lines are lines that describe the graph.\n",
    "# After that, all inputs follow the format: toNode\\tfromNode\n",
    "def read_graph_file(file_name):\n",
    "    graph = {}\n",
    "    with open(file_name, \"r\") as f:\n",
    "            f.readline()\n",
    "            f.readline()\n",
    "            f.readline()\n",
    "            f.readline()\n",
    "            line = f.readline().strip()\n",
    "            while (line != \"\"):\n",
    "                fromNode, toNode = line.split(\"\\t\")\n",
    "                fromNode = int(fromNode)\n",
    "                toNode = int(toNode)\n",
    "                if fromNode not in graph:\n",
    "                    graph[fromNode] = [toNode]\n",
    "                else:\n",
    "                    graph[fromNode].append(toNode)\n",
    "                line = f.readline().strip()\n",
    "    return graph\n",
    "\n",
    "# Randomly num samples of hospital nodes from a given graph \n",
    "def generate_hospital_nodes(graph, num = 5):\n",
    "    length = len(graph)\n",
    "    nodes = list(graph.keys())\n",
    "    return random.sample(nodes, num)\n",
    "\n",
    "# Read nodes stored in a file\n",
    "# First line indicates number of nodes: #num\n",
    "# Subsequent num lines indicate the nodes to identify as a hospital\n",
    "def read_hospital_nodes(filename):\n",
    "    hospitals = []\n",
    "    with open(filename, \"r\") as f:\n",
    "        f.readline()\n",
    "        line = f.readline().strip()\n",
    "        while (line != \"\"):\n",
    "            hospitals.append(int(line))\n",
    "            line = f.readline().strip()\n",
    "    return hospitals"
   ]
  },
  {
   "cell_type": "code",
   "execution_count": 3,
   "metadata": {},
   "outputs": [],
   "source": [
    "# Read the road network graph\n",
    "graph = read_graph_file(\"roadNet-CA.txt\")"
   ]
  },
  {
   "cell_type": "code",
   "execution_count": 4,
   "metadata": {},
   "outputs": [
    {
     "data": {
      "text/plain": [
       "[3, 10, 19, 34]"
      ]
     },
     "execution_count": 4,
     "metadata": {},
     "output_type": "execute_result"
    }
   ],
   "source": [
    "# Read the road network graph randomly generated hospital nodes.\n",
    "filename = \"file2.txt\"\n",
    "# Function is provided if you want to randomize the hospital nodes.\n",
    "# hospitals = generate_hospital_nodes(graph)\n",
    "hospitals = read_hospital_nodes(filename)\n",
    "hospitals"
   ]
  },
  {
   "cell_type": "code",
   "execution_count": 5,
   "metadata": {},
   "outputs": [],
   "source": [
    "# Converts each datapoint to a line by line format for output as a list\n",
    "def write_to_file_format_a_b(data):\n",
    "    # Expected data should take the format\n",
    "    # {node number: [nearest_path]}\n",
    "    return_list = []\n",
    "    for key, value in data.items():\n",
    "        if not value:\n",
    "            continue\n",
    "        else:\n",
    "            temp_list = \"->\".join((str(x) for x in value))\n",
    "            return_list.append(f\"{key}\\t{len(value)-1}\\t{temp_list}\\n\" )\n",
    "            \n",
    "    return return_list"
   ]
  },
  {
   "cell_type": "code",
   "execution_count": 6,
   "metadata": {},
   "outputs": [],
   "source": [
    "# Converts each datapoint to a line by line format for output as a list\n",
    "def write_to_file_format_c_d(data, k = 1):\n",
    "    # Expected data should take the format\n",
    "    # {node number : {nearest_hospital: distance, 2nd_nearest_hospital: distance..., kth_nearest_hospital: distance}}\n",
    "    return_list = []\n",
    "    for node, results in data.items():\n",
    "        if not results:\n",
    "            return_list.append(f\"Node {node} not connected to any hospitals!\\n\")\n",
    "            continue\n",
    "        i=0\n",
    "        for hosp,dist in results.items():\n",
    "            return_list.append(f\"No.{i+1} nearest hospital for node[{node}]: {hosp}\\tDistance: {dist}\\n\")\n",
    "            i+=1\n",
    "        for j in range(i, k):\n",
    "            return_list.append(f\"No {j+1} nearest hospital for node[{node}].\\n\")\n",
    "    return return_list"
   ]
  },
  {
   "cell_type": "code",
   "execution_count": 7,
   "metadata": {},
   "outputs": [],
   "source": [
    "# Basic BFS for Graph Search with multiple targets. Solves (a) and (b)\n",
    "\n",
    "### Implements Breadth-first Floodfill algorithm. Allows for BFS with multiple targets. Solves task (a) and (b)\n",
    "class NearestTargetGraph:\n",
    "    def __init__(self, graph = None):\n",
    "        # Expected {node : list of connections}\n",
    "        self.graph = graph if graph else {}\n",
    "    \n",
    "    # Method for adding an edge to the graph if creating graph from scratch.\n",
    "    def add_edge(self, u:int ,v:int):\n",
    "        if u not in self.graph:\n",
    "            self.graph[u] = [v]\n",
    "        else:\n",
    "            self.graph[u].append(v)\n",
    "    \n",
    "    # Applying Floodfill BFS. Average time complexity of O(|V| + |E|)\n",
    "    def bfs(self, targets):\n",
    "        #### Pre-processing. Time complexity of O(|V|)\n",
    "        \n",
    "        # Graph of {node : [current_node, previous_node, ..., hospital_node]}\n",
    "        self.path_to_nearest_hospital = {node:[] for node in self.graph}\n",
    "        # Use a hashmap to track visited for faster lookup times.\n",
    "        visited = {node:False for node in self.graph}\n",
    "        \n",
    "        # Queue is a list that holds the path travelled so far from a specific hospital node.\n",
    "        # Path follows the format [current_node, prev_node, ... , hospital_node\n",
    "        queue = []\n",
    "        \n",
    "        for target in targets:\n",
    "            queue.append([target])\n",
    "            visited[target] = True\n",
    "            self.path_to_nearest_hospital[target] = [target]\n",
    "        \n",
    "        ### Searching. Average time complexity of O(|V| + |E|)\n",
    "        while queue:\n",
    "            path = queue.pop(0)\n",
    "            curr_node = path[0]\n",
    "                        \n",
    "            # Search all neighbouring nodes to see if we can traverse them\n",
    "            for child_node in self.graph[curr_node]:\n",
    "                # If the node has been visited, skip to prevent overlap. \n",
    "                # If it is visited, indicative that there is a nearer hospital to this node than the hospital this path originated from\n",
    "                # If not, store the path to the next node.\n",
    "                if not visited[child_node]:\n",
    "                    new_path = list(path)\n",
    "                    new_path.insert(0, child_node)\n",
    "                    queue.append(new_path)\n",
    "                    visited[child_node] = True\n",
    "                    self.path_to_nearest_hospital[child_node] = list(new_path)"
   ]
  },
  {
   "cell_type": "code",
   "execution_count": 8,
   "metadata": {},
   "outputs": [],
   "source": [
    "# Run the first algorithm on the California Road Network graph to solve task a) and b), and stores it to a text file.\n",
    "\n",
    "\n",
    "nearest_hospital_graph_ab = NearestTargetGraph(graph)\n",
    "nearest_hospital_graph_ab.bfs(hospitals)"
   ]
  },
  {
   "cell_type": "code",
   "execution_count": 9,
   "metadata": {},
   "outputs": [],
   "source": [
    "## Store output file for road network task (a) and (b)\n",
    "with open(\"roadCA_taskAB.txt\", \"w\") as f:\n",
    "    f.writelines(\"fromNode\\tdistance\\tpath\\n\")\n",
    "    f.writelines(write_to_file_format_a_b(nearest_hospital_graph_ab.path_to_nearest_hospital))"
   ]
  },
  {
   "cell_type": "code",
   "execution_count": 10,
   "metadata": {},
   "outputs": [],
   "source": [
    "### Implements Breadth-first Floodfill algorithm. Allows for BFS with multiple targets. Solves task (c) and (d)\n",
    "class KNearestTargetGraph:\n",
    "    def __init__(self, graph = None):\n",
    "        # Expected {node : list of connections}\n",
    "        self.graph = graph if graph else {}\n",
    "    \n",
    "    # Method for adding an edge to the graph if creating graph from scratch.\n",
    "    def add_edge(self, u:int ,v:int):\n",
    "        if u not in self.graph:\n",
    "            self.graph[u] = [v]\n",
    "        else:\n",
    "            self.graph[u].append(v)\n",
    "    \n",
    "    # Applying Floodfill BFS. Average time complexity of O(k*(|V| + |E|))\n",
    "    def bfs(self, targets, k = 2):\n",
    "        \n",
    "        #### Pre-processing. Time complexity of O(|V|)\n",
    "        # Queue is a list that holds the path travelled so far from a specific hospital node.\n",
    "        # Path follows the format [current_node, prev_node, ... , hospital_node]\n",
    "        queue = []\n",
    "        \n",
    "        # Graph of {node : {nearest hospital: distance}}\n",
    "        self.path_to_nearest_hospital = {node:{} for node in self.graph}\n",
    "        \n",
    "        for target in targets:\n",
    "            queue.append([target, target, 0])\n",
    "            self.path_to_nearest_hospital[target][target] = 0\n",
    "        \n",
    "        ### Searching. Average time complexity of O(k*(|V| + |E|))\n",
    "        while queue:\n",
    "            path = queue.pop(0)\n",
    "            curr_node = path[0]\n",
    "            \n",
    "            # Search all neighbouring nodes to see if we can traverse them\n",
    "            for child_node in self.graph[curr_node]:\n",
    "                # If the neighbouring node already has at least k-nearest hospitals, this path will not provide a shorter route\n",
    "                # Hence, there is already a k-nearest hospital for all descendents of this neighbour and this path can terminate\n",
    "                if len(self.path_to_nearest_hospital[child_node]) >= k:\n",
    "                    continue\n",
    "                    \n",
    "                hosp_node = path[1]\n",
    "                \n",
    "                # If hosp_node has been stored before, indicative that this path has made a loop / backtracked and this path\n",
    "                # can now terminate to prevent double counting.\n",
    "                if hosp_node in self.path_to_nearest_hospital[child_node]:\n",
    "                    continue\n",
    "                    \n",
    "                new_path = list(path)\n",
    "                new_path[0] = child_node\n",
    "                new_path[2] = new_path[2] + 1\n",
    "                    \n",
    "                # Store the next path to the queue\n",
    "                queue.append(new_path)\n",
    "                # Store this path as one of the k shortest path to a hospital\n",
    "                self.path_to_nearest_hospital[child_node][hosp_node] = new_path[2]"
   ]
  },
  {
   "cell_type": "code",
   "execution_count": 11,
   "metadata": {},
   "outputs": [
    {
     "data": {
      "text/plain": [
       "18.623259782791138"
      ]
     },
     "execution_count": 11,
     "metadata": {},
     "output_type": "execute_result"
    }
   ],
   "source": [
    "# Run the second algorithm on the California Road Network graph to solve task c) and stores it to a text file.\n",
    "\n",
    "\n",
    "k = 2\n",
    "\n",
    "k_nearest_hospitals_graph_c = KNearestTargetGraph(graph)\n",
    "tock = time.time()\n",
    "k_nearest_hospitals_graph_c.bfs(hospitals, k)\n",
    "tick = time.time()\n",
    "tick-tock"
   ]
  },
  {
   "cell_type": "code",
   "execution_count": 12,
   "metadata": {},
   "outputs": [],
   "source": [
    "with open(f\"roadCA_c_k={k}.txt\", \"w\") as f:\n",
    "    f.writelines(write_to_file_format_c_d(k_nearest_hospitals_graph_c.path_to_nearest_hospital, k))"
   ]
  },
  {
   "cell_type": "code",
   "execution_count": 13,
   "metadata": {},
   "outputs": [],
   "source": [
    "# Run the second algorithm on the California Road Network graph to solve task d) and stores it to a text file.\n",
    "\n",
    "k = 4\n",
    "\n",
    "k_nearest_hospitals_graph_d = KNearestTargetGraph(graph)\n",
    "k_nearest_hospitals_graph_d.bfs(hospitals, k)"
   ]
  },
  {
   "cell_type": "code",
   "execution_count": 14,
   "metadata": {},
   "outputs": [],
   "source": [
    "with open(f\"roadCA_d_k={k}.txt\", \"w\") as f:\n",
    "    f.writelines(write_to_file_format_c_d(k_nearest_hospitals_graph_d.path_to_nearest_hospital, k))"
   ]
  },
  {
   "cell_type": "code",
   "execution_count": 15,
   "metadata": {},
   "outputs": [],
   "source": [
    "k = 1\n",
    "k_nearest_hospitals_graph = KNearestTargetGraph(graph)\n",
    "k_nearest_hospitals_graph.bfs(hospitals, k)\n",
    "\n",
    "# Tests two sets to compare their answers and print those that are different.\n",
    "# Only works when k = 1 and using nearest target\n",
    "# Prints the nodes that are wrong.\n",
    "# Prints nothing if it's correct.\n",
    "# To check for k > 1, can use dict == dict in python to compare.\n",
    "\n",
    "def check_two_sets(test_set, ans_set):\n",
    "    for key in test_set:\n",
    "        value = ans_set[key]\n",
    "        if (value):\n",
    "            for hosp_node, dist in value.items():\n",
    "\n",
    "                if test_set[key] != dist:\n",
    "                    print(\"Key:\", key, \"is wrong.\")\n",
    "        else:\n",
    "            if test_set[key] != -1:\n",
    "                print(\"Key:\", key, \"is wrong.\")\n",
    "\n",
    "test_set = {node:(len(nearest_hospital_graph_ab.path_to_nearest_hospital[node])-1) for node in nearest_hospital_graph_ab.path_to_nearest_hospital}\n",
    "\n",
    "ans_set = {node:k_nearest_hospitals_graph.path_to_nearest_hospital[node] for node in k_nearest_hospitals_graph.path_to_nearest_hospital}\n",
    "\n",
    "check_two_sets(test_set, ans_set)"
   ]
  },
  {
   "cell_type": "code",
   "execution_count": 16,
   "metadata": {},
   "outputs": [],
   "source": [
    "## Clear all stored variables to improve memory usage\n",
    "\n",
    "test_set = None\n",
    "ans_set = None\n",
    "k_nearest_hospital_graph = None\n",
    "k_nearest_hospital_graph_c = None\n",
    "k_nearest_hospital_graph_d = None\n",
    "nearest_hospital_graph_ab = None\n",
    "tick = None\n",
    "tock = None"
   ]
  },
  {
   "cell_type": "code",
   "execution_count": 17,
   "metadata": {},
   "outputs": [],
   "source": [
    "import matplotlib.pyplot as plt\n",
    "\n",
    "# Function to allow us to plot values easier later and specify a location to store it to\n",
    "def fig_plot(x_values, list_of_timings, title, xlab, labels = [], file_store_location = \"Pyplot.png\"):\n",
    "    fig = plt.figure()\n",
    "    for i, result in enumerate(list_of_timings):\n",
    "        if labels:\n",
    "            plt.plot(x_values, result, label = labels[i])\n",
    "        else:\n",
    "            plt.plot(x_values, result)\n",
    "    \n",
    "    plt.title(title)\n",
    "    plt.xlabel(xlab)\n",
    "    plt.ylabel(\"Runtime of Algorithm\")\n",
    "    plt.ticklabel_format(axis=\"x\")\n",
    "    if labels:\n",
    "        plt.legend()\n",
    "    fig.savefig(file_store_location)"
   ]
  },
  {
   "cell_type": "code",
   "execution_count": 18,
   "metadata": {
    "scrolled": true
   },
   "outputs": [
    {
     "name": "stdout",
     "output_type": "stream",
     "text": [
      "Currently on k-value:1, Iteration:1\n",
      "Currently on k-value:1, Iteration:2\n",
      "Currently on k-value:1, Iteration:3\n",
      "Currently on k-value:1, Iteration:4\n",
      "Currently on k-value:1, Iteration:5\n",
      "Currently on k-value:2, Iteration:1\n",
      "Currently on k-value:2, Iteration:2\n",
      "Currently on k-value:2, Iteration:3\n",
      "Currently on k-value:2, Iteration:4\n",
      "Currently on k-value:2, Iteration:5\n",
      "Currently on k-value:4, Iteration:1\n",
      "Currently on k-value:4, Iteration:2\n",
      "Currently on k-value:4, Iteration:3\n",
      "Currently on k-value:4, Iteration:4\n",
      "Currently on k-value:4, Iteration:5\n",
      "Currently on k-value:8, Iteration:1\n",
      "Currently on k-value:8, Iteration:2\n",
      "Currently on k-value:8, Iteration:3\n",
      "Currently on k-value:8, Iteration:4\n",
      "Currently on k-value:8, Iteration:5\n",
      "Currently on k-value:16, Iteration:1\n",
      "Currently on k-value:16, Iteration:2\n",
      "Currently on k-value:16, Iteration:3\n",
      "Currently on k-value:16, Iteration:4\n",
      "Currently on k-value:16, Iteration:5\n"
     ]
    },
    {
     "data": {
      "image/png": "[encoded data removed]",
      "text/plain": [
       "<Figure size 432x288 with 1 Axes>"
      ]
     },
     "metadata": {
      "needs_background": "light"
     },
     "output_type": "display_data"
    }
   ],
   "source": [
    "## Empirical Study variables to control.\n",
    "# Num times of repeat is set across each iteration of k_values\n",
    "# K_values indicate the different k values we will test\n",
    "# num_of_hospitals is the fixed |H|\n",
    "num_times_to_repeat = 5\n",
    "k_values = [1, 2, 4, 8, 16]\n",
    "results = [0] * len(k_values)\n",
    "num_of_hospitals = 10\n",
    "\n",
    "### Variable to store the file with correct label and title\n",
    "file_to_store = \"Variable_K_Analysis.png\"\n",
    "x_lab = \"Value of k\"\n",
    "title = \"Empirical Analysis of Variable K and Constant |H| = \" + str(num_of_hospitals)\n",
    "\n",
    "### For each k_value, the experiment is run num_times_to_repeat with randomly sample num_of_hospitals each time\n",
    "for idx, k in enumerate(k_values):\n",
    "    total_run_time_k = 0\n",
    "    for i in range(num_times_to_repeat):\n",
    "        test_graph = KNearestTargetGraph(graph)\n",
    "        print(f\"Currently on k-value:{k}, Iteration:{i+1}\")\n",
    "        hospitals_to_run = generate_hospital_nodes(test_graph.graph, num_of_hospitals)\n",
    "        tock = time.time()\n",
    "        test_graph.bfs(hospitals_to_run, k)\n",
    "        tick = time.time()\n",
    "        total_run_time_k += tick - tock\n",
    "    # Run time is averaged over total time taken for num_times_to_repeat bfs\n",
    "    results[idx] = total_run_time_k / num_times_to_repeat\n",
    "    \n",
    "fig_plot(k_values, [results], title, x_lab, file_store_location = file_to_store)"
   ]
  },
  {
   "cell_type": "code",
   "execution_count": 19,
   "metadata": {},
   "outputs": [
    {
     "name": "stdout",
     "output_type": "stream",
     "text": [
      "Currently on number of hospitals:2, Iteration:1\n",
      "Currently on number of hospitals:2, Iteration:2\n",
      "Currently on number of hospitals:2, Iteration:3\n",
      "Currently on number of hospitals:2, Iteration:4\n",
      "Currently on number of hospitals:2, Iteration:5\n",
      "Currently on number of hospitals:5, Iteration:1\n",
      "Currently on number of hospitals:5, Iteration:2\n",
      "Currently on number of hospitals:5, Iteration:3\n",
      "Currently on number of hospitals:5, Iteration:4\n",
      "Currently on number of hospitals:5, Iteration:5\n",
      "Currently on number of hospitals:10, Iteration:1\n",
      "Currently on number of hospitals:10, Iteration:2\n",
      "Currently on number of hospitals:10, Iteration:3\n",
      "Currently on number of hospitals:10, Iteration:4\n",
      "Currently on number of hospitals:10, Iteration:5\n",
      "Currently on number of hospitals:20, Iteration:1\n",
      "Currently on number of hospitals:20, Iteration:2\n",
      "Currently on number of hospitals:20, Iteration:3\n",
      "Currently on number of hospitals:20, Iteration:4\n",
      "Currently on number of hospitals:20, Iteration:5\n",
      "Currently on number of hospitals:50, Iteration:1\n",
      "Currently on number of hospitals:50, Iteration:2\n",
      "Currently on number of hospitals:50, Iteration:3\n",
      "Currently on number of hospitals:50, Iteration:4\n",
      "Currently on number of hospitals:50, Iteration:5\n",
      "Currently on number of hospitals:100, Iteration:1\n",
      "Currently on number of hospitals:100, Iteration:2\n",
      "Currently on number of hospitals:100, Iteration:3\n",
      "Currently on number of hospitals:100, Iteration:4\n",
      "Currently on number of hospitals:100, Iteration:5\n",
      "Currently on number of hospitals:1000, Iteration:1\n",
      "Currently on number of hospitals:1000, Iteration:2\n",
      "Currently on number of hospitals:1000, Iteration:3\n",
      "Currently on number of hospitals:1000, Iteration:4\n",
      "Currently on number of hospitals:1000, Iteration:5\n"
     ]
    },
    {
     "data": {
      "image/png": "[encoded data removed]",
      "text/plain": [
       "<Figure size 432x288 with 1 Axes>"
      ]
     },
     "metadata": {
      "needs_background": "light"
     },
     "output_type": "display_data"
    }
   ],
   "source": [
    "## Empirical Study variables to control.\n",
    "# Num times of repeat is set across each iteration of k_values\n",
    "# num_hospital_lists is the number of hospitals we will sample at each iteration\n",
    "# k indicate the fixed k value we will test on. Set to 1 for quicker computation.\n",
    "num_times_to_repeat = 5\n",
    "num_hospital_list = [2,5,10,20,50,100,1000]\n",
    "results = [0] * len(num_hospital_list)\n",
    "results_k = results.copy()\n",
    "k = 1\n",
    "\n",
    "### Variable to store the file with correct label and title\n",
    "file_to_store = \"Variable_H_Analysis.png\"\n",
    "x_lab = \"Value of |H|\"\n",
    "title = \"Empirical Analysis of Variable |H| and Constant k = \" + str(k)\n",
    "\n",
    "### For each num_of_hospitals, the experiment is run num_times_to_repeat with randomly sample num_of_hospitals each time.\n",
    "### This is run over two algorithms to compare their relative time complexity in average case as well.\n",
    "for idx, num_of_hospitals in enumerate(num_hospital_list):\n",
    "    total_run_time = 0\n",
    "    total_run_time_k = 0\n",
    "    for i in range(num_times_to_repeat):    \n",
    "        print(f\"Currently on number of hospitals:{num_of_hospitals}, Iteration:{i+1}\")\n",
    "        hospitals_to_run = generate_hospital_nodes(test_graph.graph, num_of_hospitals)\n",
    "        \n",
    "        test_graph = NearestTargetGraph(graph)\n",
    "        test_graph_k = KNearestTargetGraph(graph)\n",
    "        \n",
    "        tock = time.time()\n",
    "        test_graph.bfs(hospitals_to_run)\n",
    "        tick = time.time()\n",
    "        total_run_time += (tick - tock)\n",
    "        \n",
    "        tock = time.time()\n",
    "        test_graph_k.bfs(hospitals_to_run, k)\n",
    "        tick = time.time()\n",
    "        total_run_time_k += (tick - tock)\n",
    "        \n",
    "    # Run time is averaged over total time taken for num_times_to_repeat bfs for each algorithm\n",
    "    results[idx] = total_run_time / num_times_to_repeat\n",
    "    results_k[idx] = total_run_time_k / num_times_to_repeat\n",
    "    \n",
    "fig_plot(num_hospital_list, [results, results_k], title, x_lab, [\"Nearest Target Algorithm\", \"K-Nearest Target Algorithm\"], file_store_location = file_to_store)"
   ]
  },
  {
   "cell_type": "code",
   "execution_count": 20,
   "metadata": {},
   "outputs": [],
   "source": [
    "## Creation of random graph and its pre-allocated randomly generated nodes from a text file to maintain reproducability.\n",
    "\n",
    "random_graph = read_graph_file(\"random_graph.txt\")\n",
    "random_graph_hospitals = read_hospital_nodes(\"random_nodes.txt\")\n",
    "#random_graph_hospitals = generate_hospital_nodes(random_graph, 10)"
   ]
  },
  {
   "cell_type": "code",
   "execution_count": 21,
   "metadata": {},
   "outputs": [],
   "source": [
    "# Run the first algorithm on the random graph to solve task a) and b) on a random graph network and stores it to a text file.\n",
    "nearest_target_random_ab = NearestTargetGraph(random_graph)\n",
    "nearest_target_random_ab.bfs(random_graph_hospitals)"
   ]
  },
  {
   "cell_type": "code",
   "execution_count": 22,
   "metadata": {},
   "outputs": [],
   "source": [
    "with open(\"random_taskAB.txt\", \"w\") as f:\n",
    "    f.writelines(\"fromNode\\tdistance\\tpath\\n\")\n",
    "    f.writelines(write_to_file_format_a_b(nearest_target_random_ab.path_to_nearest_hospital))"
   ]
  },
  {
   "cell_type": "code",
   "execution_count": 23,
   "metadata": {},
   "outputs": [],
   "source": [
    "# Run the second algorithm on the random graph to solve task c) on a random graph network and stores it to a text file.\n",
    "\n",
    "k = 2\n",
    "k_nearest_target_random_c = KNearestTargetGraph(random_graph)\n",
    "k_nearest_target_random_c.bfs(random_graph_hospitals, k)"
   ]
  },
  {
   "cell_type": "code",
   "execution_count": 24,
   "metadata": {},
   "outputs": [],
   "source": [
    "with open(f\"random_c_k={k}.txt\", \"w\") as f:\n",
    "    f.writelines(write_to_file_format_c_d(k_nearest_target_random_c.path_to_nearest_hospital, k))"
   ]
  },
  {
   "cell_type": "code",
   "execution_count": 25,
   "metadata": {},
   "outputs": [],
   "source": [
    "# Run the second algorithm on the random graph to solve task d) on a random graph network and stores it to a text file.\n",
    "\n",
    "k = 4\n",
    "\n",
    "k_nearest_target_random_d = KNearestTargetGraph(random_graph)\n",
    "k_nearest_target_random_d.bfs(random_graph_hospitals, k)"
   ]
  },
  {
   "cell_type": "code",
   "execution_count": 26,
   "metadata": {},
   "outputs": [],
   "source": [
    "with open(f\"random_d_k={k}.txt\", \"w\") as f:\n",
    "    f.writelines(write_to_file_format_c_d(k_nearest_target_random_d.path_to_nearest_hospital, k))"
   ]
  },
  {
   "cell_type": "code",
   "execution_count": 27,
   "metadata": {},
   "outputs": [],
   "source": [
    "# ## User Input: First generate a graph using GraphGenerator.ipynb and input the graph file name in the function read_graph_file\n",
    "# ## num_nodes is the number of random nodes to generate\n",
    "# num_nodes = 1\n",
    "\n",
    "\n",
    "# self_input_graph = read_graph_file(\"\")\n",
    "\n",
    "# ## Uncomment the type of random node you want to use.\n",
    "## random_nodes = read_hospital_nodes(\"\")\n",
    "# random_nodes = generate_hospital_nodes(random_nodes, num_nodes)\n",
    "\n",
    "\n",
    "## Or you can make a graph from:\n",
    "# k = 2\n",
    "# rand_graph = KNearestTargetGraph()\n",
    "# rand_graph.add_edge(0,3)\n",
    "# rand_graph.add_edge(3,0)\n",
    "# rand_graph.add_edge(1,2)\n",
    "# rand_graph.add_edge(2,1)\n",
    "# rand_graph.add_edge(1,3)\n",
    "# rand_graph.add_edge(3,1)\n",
    "# rand_nodes = generate_hospital_nodes(rand_graph.graph, num_nodes)\n",
    "# rand_nodes.bfs(random_nodes, k)\n",
    "\n",
    "# ## Uncomment block to run for tasks a and b\n",
    "# #graph = NearestTargetGraph(self_input_graph)\n",
    "# #graph.bfs(random_nodes)\n",
    "\n",
    "# ## Uncomment block to run for tasks c and d\n",
    "# #k=2\n",
    "# #kgraph = KNearestTargetGraph(self_input_graph)\n",
    "# #kgraph.bfs(random_nodes, k)"
   ]
  }
 ],
 "metadata": {
  "kernelspec": {
   "display_name": "Python 3",
   "language": "python",
   "name": "python3"
  },
  "language_info": {
   "codemirror_mode": {
    "name": "ipython",
    "version": 3
   },
   "file_extension": ".py",
   "mimetype": "text/x-python",
   "name": "python",
   "nbconvert_exporter": "python",
   "pygments_lexer": "ipython3",
   "version": "3.7.6"
  }
 },
 "nbformat": 4,
 "nbformat_minor": 4
}
